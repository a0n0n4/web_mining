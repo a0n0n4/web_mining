{
 "cells": [
  {
   "cell_type": "code",
   "execution_count": 1,
   "metadata": {},
   "outputs": [],
   "source": [
    "import requests\n",
    "from bs4 import BeautifulSoup"
   ]
  },
  {
   "cell_type": "code",
   "execution_count": 1,
   "metadata": {},
   "outputs": [],
   "source": [
    "def getHtmlTags():\n",
    "\n",
    "    URL = \"https://www.w3schools.com/tags/ref_byfunc.asp\"\n",
    "    page = requests.get(URL)\n",
    "\n",
    "    soup = BeautifulSoup(page.content, \"html.parser\")\n",
    "    job_elements = soup.find_all(\"table\")\n",
    "    print(job_elements[0].next_siblings.value)\n"
   ]
  },
  {
   "cell_type": "code",
   "execution_count": 31,
   "metadata": {},
   "outputs": [],
   "source": [
    "URL = \"https://www.w3schools.com/tags/ref_byfunc.asp\"\n",
    "page = requests.get(URL)\n",
    "\n",
    "soup = BeautifulSoup(page.content, \"html.parser\")\n",
    "tables = soup.find_all(\"table\")\n"
   ]
  },
  {
   "cell_type": "code",
   "execution_count": 32,
   "metadata": {},
   "outputs": [
    {
     "data": {
      "text/plain": [
       "<h2>Programming</h2>"
      ]
     },
     "execution_count": 32,
     "metadata": {},
     "output_type": "execute_result"
    }
   ],
   "source": [
    "tables[-1].previous_sibling.previous_sibling"
   ]
  },
  {
   "cell_type": "code",
   "execution_count": 35,
   "metadata": {},
   "outputs": [
    {
     "data": {
      "text/plain": [
       "[[<h2>Basic HTML</h2>,\n",
       "  '!DOCTYPE>',\n",
       "  'html',\n",
       "  'head',\n",
       "  'title',\n",
       "  'body',\n",
       "  'h1> to <h6',\n",
       "  'p',\n",
       "  'br',\n",
       "  'hr',\n",
       "  '!--...--'],\n",
       " [<h2>Formatting</h2>,\n",
       "  'acronym',\n",
       "  'abbr',\n",
       "  'address',\n",
       "  'b',\n",
       "  'bdi',\n",
       "  'bdo',\n",
       "  'big',\n",
       "  'blockquote',\n",
       "  'center',\n",
       "  'cite',\n",
       "  'code',\n",
       "  'del',\n",
       "  'dfn',\n",
       "  'em',\n",
       "  'font',\n",
       "  'i',\n",
       "  'ins',\n",
       "  'kbd',\n",
       "  'mark',\n",
       "  'meter',\n",
       "  'pre',\n",
       "  'progress',\n",
       "  'q',\n",
       "  'rp',\n",
       "  'rt',\n",
       "  'ruby',\n",
       "  's',\n",
       "  'samp',\n",
       "  'small',\n",
       "  'strike',\n",
       "  'strong',\n",
       "  'sub',\n",
       "  'sup',\n",
       "  'template',\n",
       "  'time',\n",
       "  'tt',\n",
       "  'u',\n",
       "  'var',\n",
       "  'wbr'],\n",
       " [<h2>Forms and Input</h2>,\n",
       "  'form',\n",
       "  'input',\n",
       "  'textarea',\n",
       "  'button',\n",
       "  'select',\n",
       "  'optgroup',\n",
       "  'option',\n",
       "  'label',\n",
       "  'fieldset',\n",
       "  'legend',\n",
       "  'datalist',\n",
       "  'output'],\n",
       " [<h2>Frames</h2>, 'frame', 'frameset', 'noframes', 'iframe'],\n",
       " [<h2>Images</h2>,\n",
       "  'img',\n",
       "  'map',\n",
       "  'area',\n",
       "  'canvas',\n",
       "  'figcaption',\n",
       "  'figure',\n",
       "  'picture',\n",
       "  'svg'],\n",
       " [<h2>Audio / Video</h2>, 'audio', 'source', 'track', 'video'],\n",
       " [<h2>Links</h2>, 'a', 'link', 'nav'],\n",
       " [<h2>Lists</h2>, 'ul', 'ol', 'li', 'dir', 'dl', 'dt', 'dd'],\n",
       " [<h2>Tables</h2>,\n",
       "  'table',\n",
       "  'caption',\n",
       "  'th',\n",
       "  'tr',\n",
       "  'td',\n",
       "  'thead',\n",
       "  'tbody',\n",
       "  'tfoot',\n",
       "  'col',\n",
       "  'colgroup'],\n",
       " [<h2>Styles and Semantics</h2>,\n",
       "  'style',\n",
       "  'div',\n",
       "  'span',\n",
       "  'header',\n",
       "  'footer',\n",
       "  'main',\n",
       "  'section',\n",
       "  'article',\n",
       "  'aside',\n",
       "  'details',\n",
       "  'dialog',\n",
       "  'summary',\n",
       "  'data'],\n",
       " [<h2>Meta Info</h2>, 'head', 'meta', 'base', 'basefont'],\n",
       " [<h2>Programming</h2>,\n",
       "  'script',\n",
       "  'noscript',\n",
       "  'applet',\n",
       "  'embed',\n",
       "  'object',\n",
       "  'param']]"
      ]
     },
     "execution_count": 35,
     "metadata": {},
     "output_type": "execute_result"
    }
   ],
   "source": [
    "l=[]\n",
    "for table in tables:\n",
    "    l.append([table.previous_sibling.previous_sibling])\n",
    "    for tr in table.find_all(\"tr\")[1:]:\n",
    "        l[-1].append(tr.find(\"td\").text[1:-1])\n",
    "l"
   ]
  }
 ],
 "metadata": {
  "kernelspec": {
   "display_name": "Python 3",
   "language": "python",
   "name": "python3"
  },
  "language_info": {
   "codemirror_mode": {
    "name": "ipython",
    "version": 3
   },
   "file_extension": ".py",
   "mimetype": "text/x-python",
   "name": "python",
   "nbconvert_exporter": "python",
   "pygments_lexer": "ipython3",
   "version": "3.10.6"
  },
  "orig_nbformat": 4,
  "vscode": {
   "interpreter": {
    "hash": "916dbcbb3f70747c44a77c7bcd40155683ae19c65e1c03b4aa3499c5328201f1"
   }
  }
 },
 "nbformat": 4,
 "nbformat_minor": 2
}
