{
  "nbformat": 4,
  "nbformat_minor": 0,
  "metadata": {
    "colab": {
      "provenance": []
    },
    "kernelspec": {
      "name": "python3",
      "display_name": "Python 3"
    },
    "language_info": {
      "name": "python"
    }
  },
  "cells": [
    {
      "cell_type": "code",
      "source": [
        "# preprocessing\n",
        "# import the necessary libraries\n",
        "import string\n",
        "import nltk\n",
        "import re\n",
        "def text_lowercase(text):\n",
        "    return text.lower()\n",
        "# Remove numbers\n",
        "def remove_numbers(text):\n",
        "    result = re.sub(r'\\d+', '', text)\n",
        "    return result\n",
        "# remove punctuation\n",
        "def remove_punctuation(text):\n",
        "    translator = str.maketrans('', '', string.punctuation)\n",
        "    return text.translate(translator)\n",
        "# remove whitespace from text\n",
        "def remove_whitespace(text):\n",
        "    return  \" \".join(text.split())\n",
        "# remove stopwords\n",
        "def remove_stopwords(text):\n",
        "    stopword_list = nltk.corpus.stopwords.words('english')\n",
        "    tokens = nltk.word_tokenize(text)\n",
        "    tokens = [token.strip() for token in tokens]\n",
        "    return ' '.join([token for token in tokens if token not in stopword_list])\n",
        "# stemming\n",
        "def stem_text(text):\n",
        "    ps = nltk.PorterStemmer()\n",
        "    tokens = nltk.word_tokenize(text)\n",
        "    tokens = [token.strip() for token in tokens]\n",
        "    return ' '.join([ps.stem(token) for token in tokens])\n",
        "# lemmatization\n",
        "def lemmatize_text(text):\n",
        "    wnl = nltk.WordNetLemmatizer()\n",
        "    tokens = nltk.word_tokenize(text)\n",
        "    tokens = [token.strip() for token in tokens]\n",
        "    return ' '.join([wnl.lemmatize(token) for token in tokens])\n",
        "# remove special characters\n",
        "def remove_special_characters(text):\n",
        "    pattern=r'[^a-zA-z0-9\\s]'\n",
        "    text=re.sub(pattern,'',text)\n",
        "    return text\n",
        "# remove extra newlines\n",
        "def remove_extra_newlines(text):\n",
        "    pattern=r'[\\r|\\n|\\r]+'\n",
        "    text=re.sub(pattern,' ',text)\n",
        "    return text\n",
        "\n",
        "# apply all the functions to the text\n",
        "def preprocess(corpus):\n",
        "    normalized_corpus = []\n",
        "    # normalize each document in the corpus\n",
        "    for doc in corpus:\n",
        "        doc = text_lowercase(doc)\n",
        "        doc = remove_numbers(doc)\n",
        "        doc = remove_punctuation(doc)\n",
        "        doc = remove_whitespace(doc)\n",
        "        doc = remove_special_characters(doc)\n",
        "        doc = remove_extra_newlines(doc)\n",
        "        doc = lemmatize_text(doc)\n",
        "        doc = stem_text(doc)\n",
        "        doc = remove_stopwords(doc)\n",
        "        normalized_corpus.append(doc)\n",
        "    return normalized_corpus"
      ],
      "metadata": {
        "id": "JdpjxV1vWJgQ"
      },
      "execution_count": 5,
      "outputs": []
    },
    {
      "cell_type": "code",
      "source": [
        "nltk.download('punkt')\n",
        "nltk.download('wordnet')\n",
        "nltk.download('omw-1.4')\n",
        "nltk.download('stopwords')"
      ],
      "metadata": {
        "colab": {
          "base_uri": "https://localhost:8080/"
        },
        "id": "8Nk5MdXvev8u",
        "outputId": "9301cf1b-4497-482b-8e49-9af9cde8e867"
      },
      "execution_count": 6,
      "outputs": [
        {
          "output_type": "stream",
          "name": "stderr",
          "text": [
            "[nltk_data] Downloading package punkt to /root/nltk_data...\n",
            "[nltk_data]   Unzipping tokenizers/punkt.zip.\n",
            "[nltk_data] Downloading package wordnet to /root/nltk_data...\n",
            "[nltk_data] Downloading package omw-1.4 to /root/nltk_data...\n",
            "[nltk_data] Downloading package stopwords to /root/nltk_data...\n",
            "[nltk_data]   Unzipping corpora/stopwords.zip.\n"
          ]
        },
        {
          "output_type": "execute_result",
          "data": {
            "text/plain": [
              "True"
            ]
          },
          "metadata": {},
          "execution_count": 6
        }
      ]
    },
    {
      "cell_type": "markdown",
      "source": [
        "# Part A:"
      ],
      "metadata": {
        "id": "dp5WYdiqNVCU"
      }
    },
    {
      "cell_type": "code",
      "source": [
        "title=[\n",
        "    \"Automotive\",\n",
        "    \"Car\",\n",
        "    \"motorcycles\",\n",
        "    \"self-drive\",\n",
        "    \"hire\",\n",
        "    \"Dhoni\",\n",
        "    \"World cup\",\n",
        "    \"Safe driverless\",\n",
        "    \"Skipper\"\n",
        "]\n",
        "detail=[\n",
        "    \"Electric automotive maker Tesla Inc. is likely to introduce its products in India sometime in the summer of 2017.\",\n",
        "    \"Automotive major Mahindra likely to introduce driverless cars\",\n",
        "    \"BMW plans to introduce its own motorcycles in India\",\n",
        "    \"Just drive, a self-drive car rental firm uses smart vehicle technology based on IoT\",\n",
        "    \"Automotive industry going to hire thousands in 2018\",\n",
        "    \"Famous cricket player  Dhoni brought his priced car Hummer which is an SUV\",\n",
        "    \"Dhoni led india to its second world cup victory\",\n",
        "    \"IoT in cars will lead to more safety and make driverless vehicle revolution possible\",\n",
        "    \"Sachin recommended Dhoni for the indian skipper post\"\n",
        "]"
      ],
      "metadata": {
        "id": "7kK-1LHLNZAD"
      },
      "execution_count": 7,
      "outputs": []
    },
    {
      "cell_type": "code",
      "source": [
        "detail=preprocess(detail)"
      ],
      "metadata": {
        "id": "6Q1dlO9iWObA"
      },
      "execution_count": 8,
      "outputs": []
    },
    {
      "cell_type": "code",
      "source": [
        "from sklearn.feature_extraction.text import TfidfVectorizer\n",
        "vectorizer = TfidfVectorizer()\n",
        "X = vectorizer.fit_transform(detail)"
      ],
      "metadata": {
        "id": "qgU4dNIvf8Ky"
      },
      "execution_count": 9,
      "outputs": []
    },
    {
      "cell_type": "code",
      "source": [
        "import numpy as np\n",
        "from scipy.cluster import hierarchy\n",
        "import matplotlib.pyplot as plt"
      ],
      "metadata": {
        "id": "lr2WJ9q7knZL"
      },
      "execution_count": 10,
      "outputs": []
    },
    {
      "cell_type": "code",
      "source": [
        "temp = hierarchy.linkage(X.todense(), 'complete', metric='euclidean')\n",
        "plt.figure()\n",
        "dn = hierarchy.dendrogram(temp, orientation='right', labels=title)"
      ],
      "metadata": {
        "colab": {
          "base_uri": "https://localhost:8080/",
          "height": 265
        },
        "id": "iXwLgI1zkWS1",
        "outputId": "1a6667f8-6b7e-4dad-b061-a2981a4cdbb8"
      },
      "execution_count": 11,
      "outputs": [
        {
          "output_type": "display_data",
          "data": {
            "text/plain": [
              "<Figure size 432x288 with 1 Axes>"
            ],
            "image/png": "[encoded data removed]"
          },
          "metadata": {
            "needs_background": "light"
          }
        }
      ]
    },
    {
      "cell_type": "code",
      "source": [
        "temp = hierarchy.linkage(X.todense(), 'single', metric='euclidean')\n",
        "plt.figure()\n",
        "dn = hierarchy.dendrogram(temp, orientation='right', labels=title)"
      ],
      "metadata": {
        "colab": {
          "base_uri": "https://localhost:8080/",
          "height": 265
        },
        "id": "kCNJlfOsW4xI",
        "outputId": "7eeac72f-f374-475d-810c-58c6a7713610"
      },
      "execution_count": 12,
      "outputs": [
        {
          "output_type": "display_data",
          "data": {
            "text/plain": [
              "<Figure size 432x288 with 1 Axes>"
            ],
            "image/png": "[encoded data removed]"
          },
          "metadata": {
            "needs_background": "light"
          }
        }
      ]
    },
    {
      "cell_type": "code",
      "source": [
        "temp = hierarchy.linkage(X.todense(), 'average', metric='euclidean')\n",
        "plt.figure()\n",
        "dn = hierarchy.dendrogram(temp, orientation='right', labels=title)"
      ],
      "metadata": {
        "colab": {
          "base_uri": "https://localhost:8080/",
          "height": 265
        },
        "id": "C7JI50FWkkZr",
        "outputId": "383d29d6-ff9a-4c90-ad17-06a8983b0599"
      },
      "execution_count": 13,
      "outputs": [
        {
          "output_type": "display_data",
          "data": {
            "text/plain": [
              "<Figure size 432x288 with 1 Axes>"
            ],
            "image/png": "[encoded data removed]"
          },
          "metadata": {
            "needs_background": "light"
          }
        }
      ]
    },
    {
      "cell_type": "markdown",
      "source": [
        "# Part B:"
      ],
      "metadata": {
        "id": "GHc8SQLDlKbM"
      }
    },
    {
      "cell_type": "code",
      "source": [
        "title=[\n",
        "  \"Tesla\",\n",
        "  \"Electric\",\n",
        "  \"Car/Vehicle/Automobile\",\n",
        "  \"pollution\",\n",
        "  \"de-monetization\",\n",
        "  \"GST\",\n",
        "  \"black money\" \n",
        "]\n",
        "link=[\n",
        "    \"https://en.wikipedia.org/wiki/Tesla,_Inc.\",\n",
        "    \"https://www.merriam-webster.com/dictionary/electric\",\n",
        "    \"https://en.wikipedia.org/wiki/Motor_vehicle\",\n",
        "    \"https://en.wikipedia.org/wiki/Pollution\",\n",
        "    \"https://www.investopedia.com/terms/d/demonetization.asp\",\n",
        "    \"https://en.wikipedia.org/wiki/Goods_and_Services_Tax_(India)\",\n",
        "    \"https://en.wikipedia.org/wiki/Indian_black_money\"\n",
        "]\n",
        "detail=[]\n"
      ],
      "metadata": {
        "id": "AYtwj8unlKbM"
      },
      "execution_count": 15,
      "outputs": []
    },
    {
      "cell_type": "code",
      "source": [
        "import requests\n",
        "from bs4 import BeautifulSoup\n",
        "\n",
        "for url in link:\n",
        "  print(url)\n",
        "  r = requests.get(url)\n",
        "  soup = BeautifulSoup(r.content, 'html.parser')\n",
        "  lines = soup.find_all('p')\n",
        "  s=\"\"\n",
        "  for line in lines:\n",
        "      s=s+\" \"+line.text\n",
        "  detail.append(s[0:min(len(s),250)])"
      ],
      "metadata": {
        "colab": {
          "base_uri": "https://localhost:8080/"
        },
        "id": "HByRF23Unc2C",
        "outputId": "75ff0246-e461-4580-ad32-e9b22c561b3c"
      },
      "execution_count": 16,
      "outputs": [
        {
          "output_type": "stream",
          "name": "stdout",
          "text": [
            "https://en.wikipedia.org/wiki/Tesla,_Inc.\n",
            "https://www.merriam-webster.com/dictionary/electric\n",
            "https://en.wikipedia.org/wiki/Motor_vehicle\n",
            "https://en.wikipedia.org/wiki/Pollution\n",
            "https://www.investopedia.com/terms/d/demonetization.asp\n",
            "https://en.wikipedia.org/wiki/Goods_and_Services_Tax_(India)\n",
            "https://en.wikipedia.org/wiki/Indian_black_money\n"
          ]
        }
      ]
    },
    {
      "cell_type": "code",
      "source": [
        "detail=preprocess(detail)"
      ],
      "metadata": {
        "id": "K5aPl0o5lKbN"
      },
      "execution_count": 18,
      "outputs": []
    },
    {
      "cell_type": "code",
      "source": [
        "from sklearn.feature_extraction.text import TfidfVectorizer\n",
        "vectorizer = TfidfVectorizer()\n",
        "X = vectorizer.fit_transform(detail)"
      ],
      "metadata": {
        "id": "WJAWkGFolKbN"
      },
      "execution_count": 20,
      "outputs": []
    },
    {
      "cell_type": "code",
      "source": [
        "import numpy as np\n",
        "from scipy.cluster import hierarchy\n",
        "import matplotlib.pyplot as plt"
      ],
      "metadata": {
        "id": "SHkkvptXlKbO"
      },
      "execution_count": 21,
      "outputs": []
    },
    {
      "cell_type": "code",
      "source": [
        "temp = hierarchy.linkage(X.todense(), 'complete', metric='euclidean')\n",
        "plt.figure()\n",
        "dn = hierarchy.dendrogram(temp, orientation='right', labels=title)"
      ],
      "metadata": {
        "colab": {
          "base_uri": "https://localhost:8080/",
          "height": 265
        },
        "outputId": "03aba066-4044-4d00-90ad-6e4f346670d5",
        "id": "w_oHRIaMlKbO"
      },
      "execution_count": 22,
      "outputs": [
        {
          "output_type": "display_data",
          "data": {
            "text/plain": [
              "<Figure size 432x288 with 1 Axes>"
            ],
            "image/png": "[encoded data removed]"
          },
          "metadata": {
            "needs_background": "light"
          }
        }
      ]
    },
    {
      "cell_type": "code",
      "source": [
        "temp = hierarchy.linkage(X.todense(), 'single', metric='euclidean')\n",
        "plt.figure()\n",
        "dn = hierarchy.dendrogram(temp, orientation='right', labels=title)"
      ],
      "metadata": {
        "colab": {
          "base_uri": "https://localhost:8080/",
          "height": 265
        },
        "outputId": "de13b6c7-ff5a-456c-9705-1df2d17407a9",
        "id": "-CMXjYW0lKbP"
      },
      "execution_count": 23,
      "outputs": [
        {
          "output_type": "display_data",
          "data": {
            "text/plain": [
              "<Figure size 432x288 with 1 Axes>"
            ],
            "image/png": "[encoded data removed]"
          },
          "metadata": {
            "needs_background": "light"
          }
        }
      ]
    },
    {
      "cell_type": "code",
      "source": [
        "temp = hierarchy.linkage(X.todense(), 'average', metric='euclidean')\n",
        "plt.figure()\n",
        "dn = hierarchy.dendrogram(temp, orientation='right', labels=title)"
      ],
      "metadata": {
        "colab": {
          "base_uri": "https://localhost:8080/",
          "height": 265
        },
        "outputId": "e2dae6b9-9d2f-4b18-85c2-ee25897e1ab8",
        "id": "dUnqQwUclKbP"
      },
      "execution_count": 24,
      "outputs": [
        {
          "output_type": "display_data",
          "data": {
            "text/plain": [
              "<Figure size 432x288 with 1 Axes>"
            ],
            "image/png": "[encoded data removed]"
          },
          "metadata": {
            "needs_background": "light"
          }
        }
      ]
    }
  ]
}